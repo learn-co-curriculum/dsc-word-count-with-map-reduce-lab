{
 "cells": [
  {
   "cell_type": "markdown",
   "metadata": {},
   "source": [
    "# Word Count with MapReduce - Lab\n",
    "\n",
    "## Introduction\n",
    "\n",
    "Now that we have seen the key map and reduce operators in Spark, and also know when to use transformation and action operators, we can revisit the word count problem we introduced earlier in the section. In this lab, we will read a text corpus into the Spark environment, perform a word count, and try basic NLP ideas to get a good grip on how MapReduce performs. \n",
    "\n",
    "## Objectives\n",
    "\n",
    "In this lab you will:\n",
    "\n",
    "* Apply the map(func) transformation to a given function on all elements of an RDD in different partitions \n",
    "* Apply a map transformation for all elements of an RDD \n",
    "* Compare the difference between a transformation and an action within RDDs \n",
    "* Use collect(), count(), and take() actions to trigger spark transformations \n",
    "* Use filter to select data that meets certain specifications within an RDD \n",
    "* Use Spark and the MapReduce framework to complete a full parallelized word count problem \n",
    "\n",
    "## Word Count Task\n",
    "\n",
    "Here is what our problem looks like:\n",
    "\n",
    "* We have a huge text document\n",
    "* We need to count the number of times each distinct word appears in the document\n",
    "\n",
    "Sample applications:\n",
    "\n",
    "* Analyze web server logs to find popular URLs\n",
    "* Analyze texts for content or style "
   ]
  },
  {
   "cell_type": "markdown",
   "metadata": {},
   "source": [
    "## Word Count with MapReduce\n",
    "\n",
    "We will illustrate a MapReduce computation for counting the number of occurrences for each word in a text corpus. \n",
    "\n",
    "In this example, the data consists of a directory `text/` containing `.txt` documents. These documents each contain the full text of a work by either William Shakespeare or Jane Austen.\n",
    "\n",
    "In our analysis we'll count the frequency of words for __style identification__ as word frequencies might have unique features which can potentially describe the author's writing style. We'll walk through the steps one by one, then write a function at the end that allows us to compare the different authors.\n",
    "\n",
    "MapReduce in PySpark provides a practical and efficient way of achieving this goal as it: \n",
    "\n",
    "* works if the file is too large for memory,\n",
    "* works even if the output is too large for memory, and\n",
    "* is naturally parallelizable\n"
   ]
  },
  {
   "cell_type": "markdown",
   "metadata": {},
   "source": [
    "### MapReduce Framework\n",
    "\n",
    "Here are the steps that we will perform for our problem, under the MapReduce framework:  \n",
    "\n",
    "1. Sequentially read a lot of data\n",
    "   * From a text file in this case\n",
    "2. **Split:** Split the data into chunks that can be analyzed separately\n",
    "   * In this case, each line of the text file becomes a record in an RDD\n",
    "3. **Map:** Perform any relevant transformations\n",
    "   * We'll be splitting each line into words, making the words lowercase, and removing punctuation\n",
    "4. **Shuffle:** Group by key in preparation for reducing\n",
    "   * In this case, we want to group by the cleaned word\n",
    "   * Spark does this for us automatically; we just need to invoke the Reduce step\n",
    "5. **Reduce:** Aggregate, summarize, filter, or sort\n",
    "   * We'll aggregate the frequencies, filter by frequency as well as by specific stopwords, and end by sorting by frequency\n",
    "6. Write the result\n",
    "   * Our final result will be a list of tuples containing the top 10 words and their frequencies\n",
    "\n",
    "As a reminder, here is what it looks like visually, given the example we used before:\n",
    "![](./images/MapReduceZooExample.drawio.png)"
   ]
  },
  {
   "cell_type": "markdown",
   "metadata": {},
   "source": [
    "### Initialize SparkContext\n",
    "\n",
    "- First, import the `pyspark` module into this Python environment and initialize a SparkContext with the conventional name `sc`\n",
    "- SparkContext should be local (standalone cluster)"
   ]
  },
  {
   "cell_type": "code",
   "execution_count": null,
   "metadata": {},
   "outputs": [],
   "source": [
    "# Start a local SparkContext\n",
    "\n"
   ]
  },
  {
   "cell_type": "markdown",
   "metadata": {},
   "source": [
    "To test our code, start with a single text file, `'hamlet.txt'`. First, set a file path variable `file` to the location of `'text/hamlet.txt'`. "
   ]
  },
  {
   "cell_type": "code",
   "execution_count": null,
   "metadata": {},
   "outputs": [],
   "source": [
    "# Set a path variable for data \n",
    "\n",
    "# 'text/hamlet.txt'"
   ]
  },
  {
   "cell_type": "markdown",
   "metadata": {},
   "source": [
    "## Read and Split Text File Contents into RDD - `sc.textFile()`\n",
    "\n",
    "Previously we used parallelization to read an RDD from a Python list. Here we'll read the text file into Spark RDDs by using the `sc.textFile()` method. We'll load the data from the text file into an RDD called `lines`. \n",
    "\n",
    "The documentation the `textFile` method in PySpark can be found [here](https://spark.apache.org/docs/latest/api/python/reference/api/pyspark.SparkContext.textFile.html) and more in-depth documentation on RDDs can be found [here](https://spark.apache.org/docs/latest/rdd-programming-guide.html).\n",
    "\n",
    "The `textFile(path)` method reads a text file from the HDFS/local file system/any Hadoop supported file system, into the number of partitions specified and returns it as an RDD of strings."
   ]
  },
  {
   "cell_type": "code",
   "execution_count": null,
   "metadata": {},
   "outputs": [],
   "source": [
    "# Read the text file into an RDD using sc.textFile()\n",
    "lines = None\n",
    "lines\n",
    "# text/hamlet.txt MapPartitionsRDD[36] at textFile at NativeMethodAccessorImpl.java:0"
   ]
  },
  {
   "cell_type": "markdown",
   "metadata": {},
   "source": [
    "The text file has been written in a \"line-by-line\" manner into the RDD. We can access any given entry using simple indexing. \n",
    "\n",
    "In order to view the contents of the RDD, we will use the `RDD.collect()` method since calling the RDD by name will not return the contents, only the object type and relevant information due to lazy loading. \n",
    "\n",
    "Print a few sample lines from the `lines` RDD."
   ]
  },
  {
   "cell_type": "code",
   "execution_count": null,
   "metadata": {},
   "outputs": [],
   "source": [
    "# Code here\n"
   ]
  },
  {
   "cell_type": "markdown",
   "metadata": {},
   "source": [
    "Similarly, we can also print the whole document line by line if we loop over the result of `collect()`.\n",
    "\n",
    "Print the complete Hamlet from the `lines` RDD."
   ]
  },
  {
   "cell_type": "code",
   "execution_count": null,
   "metadata": {
    "scrolled": true
   },
   "outputs": [],
   "source": [
    "# Print the text, line-by-line\n",
    "# This will output the whole of hamlet text, one line at a time. \n"
   ]
  },
  {
   "cell_type": "markdown",
   "metadata": {},
   "source": [
    "Great, now that the complete text file is in a `lines` RDD, we can easily use the map function to break it down further into individual words and parallelize it accordingly. \n",
    "\n",
    "__Note: Parallelization is handled by the Spark environment according to available infrastructure and doesn't need any further configuration__."
   ]
  },
  {
   "cell_type": "markdown",
   "metadata": {},
   "source": [
    "## The Map Step\n",
    "\n",
    "Currently we have an RDD where each record is a line of text. What we need to do next is:\n",
    "\n",
    "* Split each line into words\n",
    "  * We might call these `w1, w2, . . . , wn`\n",
    "* Clean up the words based on any issues we notice\n",
    "* Map the words onto a tuple containing the word and the number `1`\n",
    "  * The tuples will look like this: `(w1, 1), (w2, 1), . . . ,(wn, 1)`\n",
    "\n",
    "Then later on we will use the Reduce step to combine all of those numbers into word counts.\n",
    "\n",
    "### Spark Mapping Functions\n",
    "\n",
    "Previously, we saw that:\n",
    "\n",
    "* `map(func)` returns a new distributed dataset formed by passing each element of the source through a function `func`.\n",
    "* `flatMap(func)` maps each input item to 0 or more output items (so `func` should return a seq rather than a single item).\n",
    "* `flatMap()` breaks the output of a lambda function into individual RDD elements (as opposed to map).\n"
   ]
  },
  {
   "cell_type": "markdown",
   "metadata": {},
   "source": [
    "### Split Each Line into Words\n",
    "\n",
    "* Use `RDD.flatMap()` ([documentation here](https://spark.apache.org/docs/latest/api/python/reference/api/pyspark.RDD.flatMap.html)) to split the lines by whitespace and collect into one flat RDD.\n",
    "* The transformation is defined in the lambda expression, where the input `x` is defined as producing the result of `x.split()`.\n",
    "* Use the `RDD.take(n)` method ([documentation here](https://spark.apache.org/docs/latest/api/python/reference/api/pyspark.RDD.take.html)) to pick `10` words from the top of the sequence, in order to view the results of our work so far."
   ]
  },
  {
   "cell_type": "code",
   "execution_count": null,
   "metadata": {},
   "outputs": [],
   "source": [
    "# split the lines into words based on whitespace and show ten elements from the top \n",
    "\n",
    "\n",
    "# Code here \n",
    "\n",
    "\n",
    "# ['1604',\n",
    "#  'THE',\n",
    "#  'TRAGEDY',\n",
    "#  'OF',\n",
    "#  'HAMLET,',\n",
    "#  'PRINCE',\n",
    "#  'OF',\n",
    "#  'DENMARK',\n",
    "#  'by',\n",
    "#  'William']"
   ]
  },
  {
   "cell_type": "markdown",
   "metadata": {},
   "source": [
    "\n",
    "### Create a Tuple of (Word, 1)\n",
    "\n",
    "* Map each word to a tuple of (word, 1), which will be our (key, value) pair later on.\n",
    "  * (Yes, just the number 1 for each word. Eventually this numbers will be added together.)\n",
    "* Use `RDD.map` ([documentation here](https://spark.apache.org/docs/latest/api/python/reference/api/pyspark.RDD.map.html))\n",
    "* Use `RDD.take(n)` to view 10 elements"
   ]
  },
  {
   "cell_type": "code",
   "execution_count": null,
   "metadata": {},
   "outputs": [],
   "source": [
    "# Use a lambda function with map to add a 1 to each word and output a tuple\n",
    "# (word, 1) - Take ten elements\n",
    "\n",
    "\n",
    "# Code here\n",
    "\n",
    "# [('1604', 1),\n",
    "#  ('THE', 1),\n",
    "#  ('TRAGEDY', 1),\n",
    "#  ('OF', 1),\n",
    "#  ('HAMLET,', 1),\n",
    "#  ('PRINCE', 1),\n",
    "#  ('OF', 1),\n",
    "#  ('DENMARK', 1),\n",
    "#  ('by', 1),\n",
    "#  ('William', 1)]"
   ]
  },
  {
   "cell_type": "markdown",
   "metadata": {},
   "source": [
    "Looking at the counts above, do you notice anything that might cause a problem?\n",
    "\n",
    "It appears that we have a mixture of words in capital letters as well as lowercase letters. If we count this way, `\"THE\"` and `\"the\"` would be considered two separate words due to case sensitivity.\n",
    "\n",
    "### Cleaning: Normalize Case\n",
    "\n",
    "One typical way to normalize different cases in strings is just to make them all lowercase.\n",
    "\n",
    "Modify the map function above to change all the words to lowercase using a `.lower()` inside the lambda function. Then use `RDD.take(n)` to view 10 elements."
   ]
  },
  {
   "cell_type": "code",
   "execution_count": null,
   "metadata": {},
   "outputs": [],
   "source": [
    "# Change the words in words tuples to lowercase - take 10 elements \n",
    "\n",
    "\n",
    "# Code here\n",
    "\n",
    "# [('1604', 1),\n",
    "#  ('the', 1),\n",
    "#  ('tragedy', 1),\n",
    "#  ('of', 1),\n",
    "#  ('hamlet,', 1),\n",
    "#  ('prince', 1),\n",
    "#  ('of', 1),\n",
    "#  ('denmark', 1),\n",
    "#  ('by', 1),\n",
    "#  ('william', 1)]"
   ]
  },
  {
   "cell_type": "markdown",
   "metadata": {},
   "source": [
    "## The Reduce Step\n",
    "\n",
    "Ok, now we think we have data that is prepared for the next step.\n",
    "\n",
    "### Aggregate Word Counts\n",
    "\n",
    "Our goal is to aggregate all of those `1`s to find the word count.\n",
    "\n",
    "The Reduce step's argument is a pair consisting of a key and its list of associated values as the pairs created above. The output of the Reduce function is a sequence of zero or more key-value pairs. These key-value pairs can be of a type different from those sent from Map tasks to Reduce tasks, but often they are the same type.\n",
    "\n",
    "We will refer to the application of the Reduce step to a single key and its associated list of values as a reducer.\n",
    "\n",
    "* Use `RDD.reduceByKey()` ([documentation here](https://spark.apache.org/docs/latest/api/python/reference/api/pyspark.RDD.reduceByKey.html)) to add up all the words.\n",
    "* For this method, the lambda has two arguments (`x` and `y`) instead of just `x`. `x` will be the word and `y` will be the count.\n",
    "* The new (key, value) pairs would have the word as a key and the number of occurrences as a value. \n"
   ]
  },
  {
   "cell_type": "code",
   "execution_count": null,
   "metadata": {},
   "outputs": [],
   "source": [
    "# Use reduceByKey with lowercase tuples to add all values under same keys - take 10\n",
    "\n",
    "\n",
    "# Code here \n",
    "\n",
    "\n",
    "# [('1604', 1),\n",
    "#  ('tragedy', 1),\n",
    "#  ('of', 670),\n",
    "#  ('prince', 2),\n",
    "#  ('denmark', 10),\n",
    "#  ('shakespeare', 1),\n",
    "#  ('dramatis', 1),\n",
    "#  ('claudius,', 2),\n",
    "#  ('king', 43),\n",
    "#  ('officer.', 3)]"
   ]
  },
  {
   "cell_type": "markdown",
   "metadata": {},
   "source": [
    "Hmm, there is still something off about this data. Specifically, we have some words containing punctuation, so that `\"officer\"` and `\"officer.\"` are treated as different words.\n",
    "\n",
    "### Cleaning: Remove Punctuation\n",
    "\n",
    "Let's go back to the cleaning step (Map), then Reduce again so that the duplicates are grouped together.\n",
    "\n",
    "Apply another `.map` to our aggregated data so that the words are stripped of punctuation. Currently when we write `lambda x:` that `x` contains a (word, count) tuple, so make sure you apply the string transformation to `x[0]` and return a tuple containing the transformed string as well as `x[1]`.\n",
    "\n",
    "In other words, if `x` is `('officer.', 3)` then your lambda function should return `('officer', 3)`.\n",
    "\n",
    "***Hint:*** in case you don't remember, this is an example of how you would remove punctuation from a single string:\n",
    "\n",
    "```python\n",
    "import string\n",
    "'claudius,'.strip(string.punctuation)\n",
    "# 'claudius'\n",
    "```"
   ]
  },
  {
   "cell_type": "code",
   "execution_count": null,
   "metadata": {},
   "outputs": [],
   "source": [
    "# Change the words in word count tuples to remove punctuation - take 10\n",
    "\n",
    "# Code here\n",
    "\n",
    "# [('1604', 1),\n",
    "#  ('tragedy', 1),\n",
    "#  ('of', 670),\n",
    "#  ('prince', 2),\n",
    "#  ('denmark', 10),\n",
    "#  ('shakespeare', 1),\n",
    "#  ('dramatis', 1),\n",
    "#  ('claudius', 2),\n",
    "#  ('king', 43),\n",
    "#  ('officer', 3)]"
   ]
  },
  {
   "cell_type": "markdown",
   "metadata": {},
   "source": [
    "### Aggregate Word Counts Again\n",
    "\n",
    "Presumably we have some duplicate words again now that punctuation has been removed. Use `reduceByKey` again to aggregate their counts."
   ]
  },
  {
   "cell_type": "code",
   "execution_count": null,
   "metadata": {},
   "outputs": [],
   "source": [
    "# Reduce again using words with puctuation removed - take 10\n",
    "\n",
    "# Code here\n",
    "\n",
    "# [('1604', 1),\n",
    "#  ('tragedy', 3),\n",
    "#  ('of', 675),\n",
    "#  ('prince', 5),\n",
    "#  ('denmark', 23),\n",
    "#  ('shakespeare', 1),\n",
    "#  ('dramatis', 1),\n",
    "#  ('king', 196),\n",
    "#  ('officer', 3),\n",
    "#  ('son', 22)]"
   ]
  },
  {
   "cell_type": "markdown",
   "metadata": {},
   "source": [
    "### Filter Rare Words\n",
    "\n",
    "Now we are going beyond just getting a word count, into the other kinds of Map steps that can occur.\n",
    "\n",
    "In addition to aggregating, the Map step can also be used for filtering.\n",
    "\n",
    "Let's use `RDD.filter(func)` ([documentation here](https://spark.apache.org/docs/latest/api/python/reference/api/pyspark.RDD.filter.html)) to remove all words that appear less frequently than some threshold value.\n",
    "\n",
    "* `func` in this case is a lambda function that takes in `x` (a tuple of (word, count)) and returns True or False.\n",
    "  * In this case, `x[1]` is what you care about, since it contains the word count\n",
    "* `func` should return True if we want to keep the word and False if we want to filter it out.\n",
    "* Let's say for this task you want to filter out any word that appears less than `5` times.\n",
    "  * This NLP approach can be useful to identify common topics between documents, where very rare words can be misleading."
   ]
  },
  {
   "cell_type": "code",
   "execution_count": null,
   "metadata": {},
   "outputs": [],
   "source": [
    "# Remove all rare words with frequency less than 5 - take 10 \n",
    "\n",
    "\n",
    "# Code here \n",
    "\n",
    "# [('of', 675),\n",
    "#  ('prince', 5),\n",
    "#  ('denmark', 23),\n",
    "#  ('king', 196),\n",
    "#  ('son', 22),\n",
    "#  ('polonius', 36),\n",
    "#  ('horatio', 47),\n",
    "#  ('courtier', 10),\n",
    "#  ('guildenstern', 30),\n",
    "#  ('gentleman', 16)]"
   ]
  },
  {
   "cell_type": "markdown",
   "metadata": {},
   "source": [
    "### Filter to Keep Only Stopwords\n",
    "\n",
    "Add a filtering step to retain only words included in a list of stopwords.\n",
    "\n",
    "For this task, the stopwords are:\n",
    "\n",
    "```python\n",
    "['the','a','in','of','on','at','for','by','I','you','me']\n",
    "```\n",
    "\n",
    "Once again, use the `filter` function and pass in a lambda function. This time you want to use `x[0]` (the word) in your conditional statement."
   ]
  },
  {
   "cell_type": "code",
   "execution_count": null,
   "metadata": {},
   "outputs": [],
   "source": [
    "# Filter to keep only stopwords\n",
    "\n",
    "# Code here \n",
    "\n",
    "# [('of', 675),\n",
    "#  ('at', 87),\n",
    "#  ('i', 577),\n",
    "#  ('in', 434),\n",
    "#  ('you', 554),\n",
    "#  ('me', 234),\n",
    "#  ('for', 250),\n",
    "#  ('on', 128),\n",
    "#  ('the', 1090),\n",
    "#  ('by', 111),\n",
    "#  ('a', 558)]"
   ]
  },
  {
   "cell_type": "markdown",
   "metadata": {},
   "source": [
    "### Filter to Remove Stopwords\n",
    "\n",
    "Modify the filter operation above to keep all the words found in the text **except** the stop words. \n",
    "\n",
    "Removing stop words can be useful in recognizing the topic of a document."
   ]
  },
  {
   "cell_type": "code",
   "execution_count": null,
   "metadata": {
    "scrolled": true
   },
   "outputs": [],
   "source": [
    "# Modify above filter to remove stopwords\n",
    "\n",
    "# Code here \n",
    "\n",
    "# [('prince', 5),\n",
    "#  ('denmark', 23),\n",
    "#  ('king', 196),\n",
    "#  ('son', 22),\n",
    "#  ('polonius', 36),\n",
    "#  ('horatio', 47),\n",
    "#  ('courtier', 10),\n",
    "#  ('guildenstern', 30),\n",
    "#  ('gentleman', 16),\n",
    "#  ('two', 26)]"
   ]
  },
  {
   "cell_type": "markdown",
   "metadata": {},
   "source": [
    "### Find the Top 10\n",
    "\n",
    "Now that we have an RDD containing only keep words (i.e. containing no stopwords), use `RDD.takeOrdered` ([documentation here](https://spark.apache.org/docs/latest/api/python/reference/api/pyspark.RDD.takeOrdered.html)) to take the top 10 key-value pairs by word frequency.\n",
    "\n",
    "You'll need to use the `key` argument in order to sort by the count, and also use `-x[1]` to order by highest to lowest"
   ]
  },
  {
   "cell_type": "code",
   "execution_count": null,
   "metadata": {},
   "outputs": [],
   "source": [
    "# Take top 10 key-value pairs by frequency\n",
    "\n",
    "# Code here\n",
    "\n",
    "# [('and', 964),\n",
    "#  ('to', 742),\n",
    "#  ('my', 520),\n",
    "#  ('it', 419),\n",
    "#  ('that', 389),\n",
    "#  ('ham', 358),\n",
    "#  ('is', 346),\n",
    "#  ('not', 315),\n",
    "#  ('his', 304),\n",
    "#  ('this', 300)]"
   ]
  },
  {
   "cell_type": "markdown",
   "metadata": {},
   "source": [
    "## Putting It All Together \n",
    "\n",
    "Combine the above code as a function called `top_10_words` that splits, cleans, combines, and filters the words in a text file before returning the 10 most frequent words and their frequencies.\n",
    "\n",
    "Then pass in three works of Shakespeare (`'romeandjuliet.txt'`, `'hamlet.txt'`, and `'othello.txt'`) and observe the results. Repeat the same exercise for three works of Jane Austen (`'senseandsensibility.txt'`, `'prideandprejudice.txt'` and `'emma.txt'`). \n",
    "\n",
    "> Can you recognize the writing styles or topics of these authors based on their word frequencies?\n",
    "\n",
    "> What can you do to improve the author recognition ability?"
   ]
  },
  {
   "cell_type": "code",
   "execution_count": null,
   "metadata": {},
   "outputs": [],
   "source": [
    "# Create a function for word count that takes in a file name and stop wordlist to perform above tasks\n",
    "def top_10_words(sc, file_name, stopword_list):\n",
    "    \n",
    "    # Load from file on disk into RDD\n",
    "    pass\n",
    "    \n",
    "    # Split into words\n",
    "    pass\n",
    "    \n",
    "    # Clean word tuples (lowercase and remove punctuation all at once this time)\n",
    "    pass\n",
    "    \n",
    "    # Reduce to get word counts\n",
    "    pass\n",
    "    \n",
    "    # Filter out words that appear fewer than 5 times\n",
    "    # (this is not really needed for this task, but could help improve\n",
    "    # efficiency in some contexts)\n",
    "    pass\n",
    "    \n",
    "    # Filter out words in stopword_list\n",
    "    pass\n",
    "    \n",
    "    # Return the top 10\n",
    "    pass"
   ]
  },
  {
   "cell_type": "code",
   "execution_count": null,
   "metadata": {},
   "outputs": [],
   "source": [
    "# Test out the function with Shakespeare texts\n",
    "\n",
    "# Code here \n"
   ]
  },
  {
   "cell_type": "code",
   "execution_count": null,
   "metadata": {},
   "outputs": [],
   "source": [
    "# Test out the function with Austen texts\n",
    "\n",
    "# Code here\n"
   ]
  },
  {
   "cell_type": "code",
   "execution_count": null,
   "metadata": {},
   "outputs": [],
   "source": [
    "# Writing styles interpretation\n",
    "\n",
    "\"\"\"\n",
    "\n",
    "\"\"\";"
   ]
  },
  {
   "cell_type": "markdown",
   "metadata": {},
   "source": [
    "## Level Up (Optional)\n",
    "\n",
    "* Create histograms of the top 10 words from each author"
   ]
  },
  {
   "cell_type": "markdown",
   "metadata": {},
   "source": [
    "## Stop the SparkContext"
   ]
  },
  {
   "cell_type": "code",
   "execution_count": null,
   "metadata": {},
   "outputs": [],
   "source": [
    "sc.stop()"
   ]
  },
  {
   "cell_type": "markdown",
   "metadata": {},
   "source": [
    "## Summary \n",
    "\n",
    "In this exercise, we saw MapReduce in action for solving a basic NLP task, i.e. counting the frequency of stop words and keep words of a text corpus. This exercise can be seen as a first step towards text analytics on big data platforms. After this lab, we will get into more advanced use cases of PySpark, specifically for machine learning applications. "
   ]
  }
 ],
 "metadata": {
  "kernelspec": {
   "display_name": "Python 3",
   "language": "python",
   "name": "python3"
  },
  "language_info": {
   "codemirror_mode": {
    "name": "ipython",
    "version": 3
   },
   "file_extension": ".py",
   "mimetype": "text/x-python",
   "name": "python",
   "nbconvert_exporter": "python",
   "pygments_lexer": "ipython3",
   "version": "3.7.2"
  }
 },
 "nbformat": 4,
 "nbformat_minor": 1
}
